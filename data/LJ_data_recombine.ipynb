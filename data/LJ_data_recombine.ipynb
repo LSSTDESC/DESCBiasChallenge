{
 "cells": [
  {
   "cell_type": "code",
   "execution_count": 127,
   "metadata": {},
   "outputs": [],
   "source": [
    "import asdf\n",
    "import h5py\n",
    "import pyccl as ccl\n",
    "import numpy as np\n",
    "import matplotlib.pyplot as plt\n",
    "import os"
   ]
  },
  {
   "cell_type": "code",
   "execution_count": 129,
   "metadata": {},
   "outputs": [],
   "source": [
    "# Initial condition pk\n",
    "f = h5py.File(f\"LastJourney_halo_pks/pk_42.hdf5\", \"r\")\n",
    "pk_icic = f['pk_ii'][:]\n",
    "ind = pk_icic[:,0] < 1.\n",
    "np.save('LastJourneyData/Pk_ICIC.npy',pk_icic[:,1][ind])"
   ]
  },
  {
   "cell_type": "code",
   "execution_count": 126,
   "metadata": {},
   "outputs": [
    {
     "data": {
      "text/plain": [
       "<matplotlib.legend.Legend at 0x7fcb0ea4e400>"
      ]
     },
     "execution_count": 126,
     "metadata": {},
     "output_type": "execute_result"
    },
    {
     "data": {
      "image/png": "[encoded data removed]",
      "text/plain": [
       "<Figure size 432x288 with 1 Axes>"
      ]
     },
     "metadata": {
      "needs_background": "light"
     },
     "output_type": "display_data"
    }
   ],
   "source": [
    "plt.figure(figsize = (6,4))\n",
    "plt.title('LastJourney pk_ICIC')\n",
    "plt.loglog(pk_icic[:,0][ind],pk_icic[:,1][ind],label = 'z = 10')\n",
    "plt.xlabel(r'$k[hMpc^{-1}]$',fontsize = 15)\n",
    "plt.ylabel(r'$P(k) [h^{-3}Mpc^3]$',fontsize = 15)\n",
    "plt.legend(fontsize = 15)"
   ]
  },
  {
   "cell_type": "code",
   "execution_count": 90,
   "metadata": {},
   "outputs": [
    {
     "name": "stdout",
     "output_type": "stream",
     "text": [
      "Write to LastJourneyData/power_mat_z0.502.asdf\n",
      "Write to LastJourneyData/power_mat_z0.471.asdf\n",
      "Write to LastJourneyData/power_mat_z0.434.asdf\n",
      "Write to LastJourneyData/power_mat_z0.402.asdf\n",
      "Write to LastJourneyData/power_mat_z0.364.asdf\n",
      "Write to LastJourneyData/power_mat_z0.335.asdf\n",
      "Write to LastJourneyData/power_mat_z0.304.asdf\n",
      "Write to LastJourneyData/power_mat_z0.271.asdf\n",
      "Write to LastJourneyData/power_mat_z0.242.asdf\n"
     ]
    }
   ],
   "source": [
    "steps = [331,338,347,355,365,373,382,392,401]\n",
    "\n",
    "save_dir = 'LastJourneyData/'\n",
    "def get_z(step):\n",
    "    # get redshift for each snap shot\n",
    "    # LS start from a = 1/201 to 1 with 500 linearly spaced steps \n",
    "    a_step = 1/201. + (1 - 1/201.)/500 * (step + 1)\n",
    "    z_step = 1/a_step - 1\n",
    "\n",
    "    return(z_step)\n",
    "\n",
    "for s in steps:\n",
    "    redshift = get_z(s)\n",
    "    power_dict = {}\n",
    "    with h5py.File(f\"LastJourney_halo_pks/pk_{s}.hdf5\", \"r\") as f:\n",
    "        filename = f\"power_mat_z{redshift:.3f}.asdf\"\n",
    "        # All pk files have the following format:\n",
    "        # column 0: ks [h Mpc^-1]\n",
    "        # column 1: pk [(h^-1 Mpc)^3]\n",
    "        # column 2: number of k modes in bin\n",
    "        # matter-matter auto-spectrum\n",
    "        pks_mm = f['pk_mm'][:]\n",
    "        pks_mi = f['pk_mi'][:]\n",
    "        ks = pks_mm[:,0]\n",
    "        pk_mm = pks_mm[:,1]\n",
    "        pk_mi = f['pk_mi'][:,1]\n",
    "        k_mask = (ks < 1)\n",
    "\n",
    "        power_dict['Pk_mm'] = pk_mm[k_mask]\n",
    "        power_dict['Pk_mIC'] = pk_mi[k_mask]\n",
    "        power_dict['ks'] = ks[k_mask]\n",
    "        data_tree = {}\n",
    "        data_tree['data'] = power_dict\n",
    "        output_file = asdf.AsdfFile(data_tree)\n",
    "        output_file.write_to(os.path.join(save_dir,filename))\n",
    "        print('Write to ' + os.path.join(save_dir,filename) )\n",
    "        output_file.close()"
   ]
  },
  {
   "cell_type": "code",
   "execution_count": 111,
   "metadata": {},
   "outputs": [
    {
     "name": "stdout",
     "output_type": "stream",
     "text": [
      "Write to LastJourneyData/power_halo_3_z0.502.asdf\n",
      "Write to LastJourneyData/power_halo_3_z0.471.asdf\n",
      "Write to LastJourneyData/power_halo_3_z0.434.asdf\n",
      "Write to LastJourneyData/power_halo_3_z0.402.asdf\n",
      "Write to LastJourneyData/power_halo_3_z0.364.asdf\n",
      "Write to LastJourneyData/power_halo_3_z0.335.asdf\n",
      "Write to LastJourneyData/power_halo_3_z0.304.asdf\n",
      "Write to LastJourneyData/power_halo_3_z0.271.asdf\n",
      "Write to LastJourneyData/power_halo_3_z0.242.asdf\n"
     ]
    }
   ],
   "source": [
    "steps = [331,338,347,355,365,373,382,392,401]\n",
    "for s in steps:\n",
    "    redshift = get_z(s)\n",
    "    power_dict = {}\n",
    "    with h5py.File(f\"LastJourney_halo_pks/pk_{s}.hdf5\", \"r\") as f:\n",
    "        #filename = f\"power_mat_z{redshift:.3f}.asdf\"\n",
    "        mb = 2\n",
    "        filename = f\"power_halo_{mb+1}_z{redshift:.3f}.asdf\"\n",
    "        # All pk files have the following format:\n",
    "        # column 0: ks [h Mpc^-1]\n",
    "        # column 1: pk [(h^-1 Mpc)^3]\n",
    "        # column 2: number of k modes in bin\n",
    "        # matter-matter auto-spectrum\n",
    "       \n",
    "        ds_hh = f[f'pk_hh_massbin_{mb}'][:]  # auto-spectra dataset\n",
    "        ds_hm = f[f'pk_hm_massbin_{mb}'][:]  # cross-spectra dataset\n",
    "        ds_hi = f[f'pk_hi_massbin_{mb}'][:]  # cross-spectra dataset\n",
    "        ks = ds_hh[:,0]\n",
    "        pk_hh = ds_hh[:,1]\n",
    "        pk_hi = ds_hi[:,1]\n",
    "        pk_hm = ds_hm[:,1]\n",
    "        k_mask = (ks < 1)\n",
    "\n",
    "        power_dict['Pk_hh'] = pk_hh[k_mask]\n",
    "        power_dict['Pk_hm'] = pk_hm[k_mask]\n",
    "        power_dict['Pk_hIC'] = pk_hi[k_mask]\n",
    "        data_tree = {}\n",
    "        data_tree['data'] = power_dict\n",
    "        output_file = asdf.AsdfFile(data_tree)\n",
    "        output_file.write_to(os.path.join(save_dir,filename))\n",
    "        print('Write to ' + os.path.join(save_dir,filename) )\n",
    "        output_file.close()"
   ]
  }
 ],
 "metadata": {
  "kernelspec": {
   "display_name": "Python 3 (ipykernel)",
   "language": "python",
   "name": "python3"
  },
  "language_info": {
   "codemirror_mode": {
    "name": "ipython",
    "version": 3
   },
   "file_extension": ".py",
   "mimetype": "text/x-python",
   "name": "python",
   "nbconvert_exporter": "python",
   "pygments_lexer": "ipython3",
   "version": "3.8.12"
  }
 },
 "nbformat": 4,
 "nbformat_minor": 4
}
